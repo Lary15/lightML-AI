{
 "cells": [
  {
   "cell_type": "code",
   "execution_count": 1,
   "id": "08d9c180",
   "metadata": {},
   "outputs": [
    {
     "name": "stderr",
     "output_type": "stream",
     "text": [
      "2023-02-09 09:50:58.094910: W tensorflow/stream_executor/platform/default/dso_loader.cc:64] Could not load dynamic library 'libcudart.so.11.0'; dlerror: libcudart.so.11.0: cannot open shared object file: No such file or directory\n",
      "2023-02-09 09:50:58.094943: I tensorflow/stream_executor/cuda/cudart_stub.cc:29] Ignore above cudart dlerror if you do not have a GPU set up on your machine.\n"
     ]
    }
   ],
   "source": [
    "import tensorflow as tf\n",
    "from keras.models import Sequential\n",
    "from keras.layers import Dense\n",
    "import pandas as pd\n",
    "import numpy as np\n",
    "\n",
    "tf.get_logger().setLevel('INFO')"
   ]
  },
  {
   "cell_type": "code",
   "execution_count": 2,
   "id": "b0c107a9",
   "metadata": {},
   "outputs": [
    {
     "data": {
      "text/plain": [
       "(       pir  ldr_1  ldr_2   temp    hum   mic  timestamp\n",
       " 0        1      0      1  26.24  28.24    39         17\n",
       " 1        1      0      1  25.69  70.35   210         10\n",
       " 2        1      1      1  26.46  39.70    11         19\n",
       " 3        0      0      1  25.54  70.71   195         13\n",
       " 4        1      1      1  24.48  47.13    11         20\n",
       " ...    ...    ...    ...    ...    ...   ...        ...\n",
       " 20100    1      0      1  29.01  34.02   145         12\n",
       " 20101    1      0      1  25.97  65.42  3827         10\n",
       " 20102    1      1      1  26.87  55.61    81         21\n",
       " 20103    0      0      1  29.68  29.93   219         15\n",
       " 20104    0      1      1  27.20  53.83   122         20\n",
       " \n",
       " [20105 rows x 7 columns],\n",
       " 0        0\n",
       " 1        0\n",
       " 2        1\n",
       " 3        0\n",
       " 4        1\n",
       "         ..\n",
       " 20100    0\n",
       " 20101    0\n",
       " 20102    1\n",
       " 20103    0\n",
       " 20104    1\n",
       " Name: led_on, Length: 20105, dtype: int64,\n",
       "       pir  ldr_1  ldr_2   temp    hum   mic  timestamp\n",
       " 0       1      0      1  26.47  57.11  3189         13\n",
       " 1       1      1      1  25.48  68.25   478          2\n",
       " 2       1      1      1  26.70  57.62   326         19\n",
       " 3       1      1      1  24.78  65.00   129         20\n",
       " 4       0      1      1  28.11  33.96   177          1\n",
       " ...   ...    ...    ...    ...    ...   ...        ...\n",
       " 5022    1      0      1  25.65  65.64  2416          9\n",
       " 5023    1      0      1  25.78  70.69   195         12\n",
       " 5024    1      0      1  27.61  51.19   142         14\n",
       " 5025    1      0      1  23.32  62.24  1118          5\n",
       " 5026    0      1      1  26.17  50.74    90         21\n",
       " \n",
       " [5027 rows x 7 columns],\n",
       " 0       0\n",
       " 1       0\n",
       " 2       1\n",
       " 3       1\n",
       " 4       0\n",
       "        ..\n",
       " 5022    0\n",
       " 5023    0\n",
       " 5024    0\n",
       " 5025    0\n",
       " 5026    1\n",
       " Name: led_on, Length: 5027, dtype: int64)"
      ]
     },
     "execution_count": 2,
     "metadata": {},
     "output_type": "execute_result"
    }
   ],
   "source": [
    "train_df = pd.read_csv(\"train.csv\")\n",
    "test_df = pd.read_csv(\"test.csv\")\n",
    "\n",
    "x_train = train_df.drop(columns=[\"led_on\"])\n",
    "y_train = train_df[\"led_on\"]\n",
    "\n",
    "x_test = test_df.drop(columns=[\"led_on\"])\n",
    "y_test = test_df[\"led_on\"]\n",
    "\n",
    "x_train, y_train, x_test, y_test"
   ]
  },
  {
   "cell_type": "code",
   "execution_count": 6,
   "id": "26ac3ae4",
   "metadata": {},
   "outputs": [],
   "source": [
    "model = Sequential()\n",
    "# add layers to the model\n",
    "model.add(Dense(units=len(x_train.columns), activation='relu', input_shape=(len(x_train.columns),)))\n",
    "model.add(Dense(units=len(x_train.columns), activation='relu'))\n",
    "# output layer\n",
    "model.add(Dense(units=1, activation='sigmoid'))\n",
    "# compile the model\n",
    "model.compile(loss='binary_crossentropy',\n",
    "            optimizer='adam', metrics=['accuracy',tf.keras.metrics.Precision(), tf.keras.metrics.Recall(), \n",
    "                           tf.keras.metrics.TrueNegatives(), tf.keras.metrics.FalsePositives()])"
   ]
  },
  {
   "cell_type": "code",
   "execution_count": 8,
   "id": "2d0d24c6",
   "metadata": {},
   "outputs": [
    {
     "name": "stdout",
     "output_type": "stream",
     "text": [
      "Epoch 1/20\n",
      "629/629 [==============================] - 2s 2ms/step - loss: 0.2275 - accuracy: 0.9035 - precision: 0.6896 - recall: 0.8648 - true_negatives: 14966.0000 - false_positives: 1440.0000\n",
      "Epoch 2/20\n",
      "629/629 [==============================] - 2s 2ms/step - loss: 0.2267 - accuracy: 0.9024 - precision: 0.6872 - recall: 0.8619 - true_negatives: 14955.0000 - false_positives: 1451.0000\n",
      "Epoch 3/20\n",
      "629/629 [==============================] - 2s 2ms/step - loss: 0.2322 - accuracy: 0.8963 - precision: 0.6683 - recall: 0.8662 - true_negatives: 14816.0000 - false_positives: 1590.0000\n",
      "Epoch 4/20\n",
      "629/629 [==============================] - 1s 2ms/step - loss: 0.2244 - accuracy: 0.9047 - precision: 0.6914 - recall: 0.8708 - true_negatives: 14968.0000 - false_positives: 1438.0000\n",
      "Epoch 5/20\n",
      "629/629 [==============================] - 1s 2ms/step - loss: 0.2294 - accuracy: 0.9008 - precision: 0.6806 - recall: 0.8681 - true_negatives: 14899.0000 - false_positives: 1507.0000\n",
      "Epoch 6/20\n",
      "629/629 [==============================] - 1s 2ms/step - loss: 0.2227 - accuracy: 0.9070 - precision: 0.6974 - recall: 0.8735 - true_negatives: 15004.0000 - false_positives: 1402.0000\n",
      "Epoch 7/20\n",
      "629/629 [==============================] - 1s 2ms/step - loss: 0.2370 - accuracy: 0.8956 - precision: 0.6652 - recall: 0.8713 - true_negatives: 14784.0000 - false_positives: 1622.0000\n",
      "Epoch 8/20\n",
      "629/629 [==============================] - 1s 2ms/step - loss: 0.2330 - accuracy: 0.9046 - precision: 0.6912 - recall: 0.8702 - true_negatives: 14968.0000 - false_positives: 1438.0000\n",
      "Epoch 9/20\n",
      "629/629 [==============================] - 1s 2ms/step - loss: 0.2232 - accuracy: 0.9070 - precision: 0.6988 - recall: 0.8692 - true_negatives: 15020.0000 - false_positives: 1386.0000\n",
      "Epoch 10/20\n",
      "629/629 [==============================] - 1s 2ms/step - loss: 0.2236 - accuracy: 0.9041 - precision: 0.6916 - recall: 0.8640 - true_negatives: 14981.0000 - false_positives: 1425.0000\n",
      "Epoch 11/20\n",
      "629/629 [==============================] - 1s 2ms/step - loss: 0.2235 - accuracy: 0.9037 - precision: 0.6889 - recall: 0.8692 - true_negatives: 14954.0000 - false_positives: 1452.0000\n",
      "Epoch 12/20\n",
      "629/629 [==============================] - 1s 2ms/step - loss: 0.2247 - accuracy: 0.9044 - precision: 0.6906 - recall: 0.8697 - true_negatives: 14965.0000 - false_positives: 1441.0000\n",
      "Epoch 13/20\n",
      "629/629 [==============================] - 1s 2ms/step - loss: 0.2233 - accuracy: 0.9062 - precision: 0.6950 - recall: 0.8740 - true_negatives: 14987.0000 - false_positives: 1419.0000\n",
      "Epoch 14/20\n",
      "629/629 [==============================] - 1s 2ms/step - loss: 0.2229 - accuracy: 0.9072 - precision: 0.6977 - recall: 0.8743 - true_negatives: 15005.0000 - false_positives: 1401.0000\n",
      "Epoch 15/20\n",
      "629/629 [==============================] - 1s 2ms/step - loss: 0.2227 - accuracy: 0.9065 - precision: 0.6946 - recall: 0.8775 - true_negatives: 14979.0000 - false_positives: 1427.0000\n",
      "Epoch 16/20\n",
      "629/629 [==============================] - 1s 2ms/step - loss: 0.2223 - accuracy: 0.9069 - precision: 0.6955 - recall: 0.8792 - true_negatives: 14982.0000 - false_positives: 1424.0000\n",
      "Epoch 17/20\n",
      "629/629 [==============================] - 1s 2ms/step - loss: 0.2201 - accuracy: 0.9073 - precision: 0.6985 - recall: 0.8729 - true_negatives: 15012.0000 - false_positives: 1394.0000\n",
      "Epoch 18/20\n",
      "629/629 [==============================] - 1s 2ms/step - loss: 0.2206 - accuracy: 0.9083 - precision: 0.7008 - recall: 0.8751 - true_negatives: 15024.0000 - false_positives: 1382.0000\n",
      "Epoch 19/20\n",
      "629/629 [==============================] - 1s 2ms/step - loss: 0.2207 - accuracy: 0.9075 - precision: 0.6974 - recall: 0.8783 - true_negatives: 14996.0000 - false_positives: 1410.0000\n",
      "Epoch 20/20\n",
      "629/629 [==============================] - 1s 2ms/step - loss: 0.2209 - accuracy: 0.9076 - precision: 0.6969 - recall: 0.8813 - true_negatives: 14988.0000 - false_positives: 1418.0000\n"
     ]
    },
    {
     "data": {
      "text/plain": [
       "<keras.callbacks.History at 0x7f88a044c5b0>"
      ]
     },
     "execution_count": 8,
     "metadata": {},
     "output_type": "execute_result"
    }
   ],
   "source": [
    "model.fit(x_train, y_train, epochs=20)"
   ]
  },
  {
   "cell_type": "code",
   "execution_count": 9,
   "id": "6f66fc27",
   "metadata": {},
   "outputs": [
    {
     "name": "stdout",
     "output_type": "stream",
     "text": [
      "158/158 [==============================] - 1s 2ms/step - loss: 0.2183 - accuracy: 0.9039 - precision: 0.7154 - recall: 0.8328 - true_negatives: 3737.0000 - false_positives: 321.0000\n"
     ]
    },
    {
     "data": {
      "text/plain": [
       "[0.21825173497200012,\n",
       " 0.9039188623428345,\n",
       " 0.7154255509376526,\n",
       " 0.8328173160552979,\n",
       " 3737.0,\n",
       " 321.0]"
      ]
     },
     "execution_count": 9,
     "metadata": {},
     "output_type": "execute_result"
    }
   ],
   "source": [
    "model.evaluate(x_test, y_test)"
   ]
  },
  {
   "cell_type": "code",
   "execution_count": 11,
   "id": "38601f5c",
   "metadata": {},
   "outputs": [
    {
     "name": "stdout",
     "output_type": "stream",
     "text": [
      "INFO:tensorflow:Assets written to: /tmp/tmpdila2w41/assets\n"
     ]
    },
    {
     "name": "stderr",
     "output_type": "stream",
     "text": [
      "INFO:tensorflow:Assets written to: /tmp/tmpdila2w41/assets\n",
      "2023-02-09 10:02:45.639408: W tensorflow/compiler/mlir/lite/python/tf_tfl_flatbuffer_helpers.cc:362] Ignored output_format.\n",
      "2023-02-09 10:02:45.639461: W tensorflow/compiler/mlir/lite/python/tf_tfl_flatbuffer_helpers.cc:365] Ignored drop_control_dependency.\n",
      "2023-02-09 10:02:45.639647: I tensorflow/cc/saved_model/reader.cc:43] Reading SavedModel from: /tmp/tmpdila2w41\n",
      "2023-02-09 10:02:45.641015: I tensorflow/cc/saved_model/reader.cc:81] Reading meta graph with tags { serve }\n",
      "2023-02-09 10:02:45.641040: I tensorflow/cc/saved_model/reader.cc:122] Reading SavedModel debug info (if present) from: /tmp/tmpdila2w41\n",
      "2023-02-09 10:02:45.648888: I tensorflow/cc/saved_model/loader.cc:228] Restoring SavedModel bundle.\n",
      "2023-02-09 10:02:45.714054: I tensorflow/cc/saved_model/loader.cc:212] Running initialization op on SavedModel bundle at path: /tmp/tmpdila2w41\n",
      "2023-02-09 10:02:45.734080: I tensorflow/cc/saved_model/loader.cc:301] SavedModel load for tags { serve }; Status: success: OK. Took 94433 microseconds.\n"
     ]
    },
    {
     "data": {
      "text/plain": [
       "2516"
      ]
     },
     "execution_count": 11,
     "metadata": {},
     "output_type": "execute_result"
    }
   ],
   "source": [
    "converter = tf.lite.TFLiteConverter.from_keras_model(model)\n",
    "tflite_model = converter.convert()\n",
    "open(\"mlp.tflite\", \"wb\").write(tflite_model)"
   ]
  },
  {
   "cell_type": "code",
   "execution_count": null,
   "id": "ef4b2cc2",
   "metadata": {},
   "outputs": [],
   "source": []
  }
 ],
 "metadata": {
  "kernelspec": {
   "display_name": "Python 3 (ipykernel)",
   "language": "python",
   "name": "python3"
  },
  "language_info": {
   "codemirror_mode": {
    "name": "ipython",
    "version": 3
   },
   "file_extension": ".py",
   "mimetype": "text/x-python",
   "name": "python",
   "nbconvert_exporter": "python",
   "pygments_lexer": "ipython3",
   "version": "3.10.9"
  }
 },
 "nbformat": 4,
 "nbformat_minor": 5
}
