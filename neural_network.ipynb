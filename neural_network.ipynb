{
 "cells": [
  {
   "cell_type": "code",
   "execution_count": 3,
   "id": "08d9c180",
   "metadata": {},
   "outputs": [],
   "source": [
    "import tensorflow as tf\n",
    "from keras.models import Sequential\n",
    "from keras.layers import Dense\n",
    "import pandas as pd\n",
    "\n",
    "tf.get_logger().setLevel('INFO')"
   ]
  },
  {
   "cell_type": "code",
   "execution_count": 13,
   "id": "b0c107a9",
   "metadata": {},
   "outputs": [
    {
     "data": {
      "text/plain": [
       "(      pir  ldr_1  ldr_2   temp  mic   timestamp\n",
       " 0       0      1      1  19.00   82  1656912201\n",
       " 1       1      1      1  19.22   87  1656811930\n",
       " 2       0      0      1  18.81   80  1657273938\n",
       " 3       0      0      1  19.11   80  1657365222\n",
       " 4       0      1      1  18.74   85  1656998197\n",
       " ...   ...    ...    ...    ...  ...         ...\n",
       " 2028    0      1      1  18.81   80  1657963456\n",
       " 2029    0      0      1  19.73   80  1656789702\n",
       " 2030    0      1      1  19.18   91  1658042133\n",
       " 2031    1      0      1  18.68   91  1657281145\n",
       " 2032    0      1      1  19.40   91  1657348409\n",
       " \n",
       " [2033 rows x 6 columns],\n",
       " 0       0\n",
       " 1       1\n",
       " 2       0\n",
       " 3       1\n",
       " 4       0\n",
       "        ..\n",
       " 2028    0\n",
       " 2029    1\n",
       " 2030    0\n",
       " 2031    1\n",
       " 2032    1\n",
       " Name: led_on, Length: 2033, dtype: int64,\n",
       "      pir  ldr_1  ldr_2   temp  mic   timestamp\n",
       " 0      0      0      1  19.51   96  1656772289\n",
       " 1      0      1      1  19.42   91  1657353813\n",
       " 2      0      1      1  19.66   86  1657920212\n",
       " 3      0      0      1  18.48   84  1657198683\n",
       " 4      1      1      1  19.03   80  1656635369\n",
       " ..   ...    ...    ...    ...  ...         ...\n",
       " 504    0      1      1  19.03   89  1657422874\n",
       " 505    0      1      1  19.31   81  1657950242\n",
       " 506    0      0      1  19.16   64  1656518200\n",
       " 507    0      1      1  18.81   82  1657958050\n",
       " 508    0      0      1  18.70   86  1657454105\n",
       " \n",
       " [509 rows x 6 columns],\n",
       " 0      0\n",
       " 1      1\n",
       " 2      1\n",
       " 3      1\n",
       " 4      0\n",
       "       ..\n",
       " 504    0\n",
       " 505    1\n",
       " 506    0\n",
       " 507    1\n",
       " 508    1\n",
       " Name: led_on, Length: 509, dtype: int64)"
      ]
     },
     "execution_count": 13,
     "metadata": {},
     "output_type": "execute_result"
    }
   ],
   "source": [
    "train_df = pd.read_csv(\"train.csv\")\n",
    "test_df = pd.read_csv(\"test.csv\")\n",
    "\n",
    "x_train = train_df.drop(columns=[\"led_on\"])\n",
    "y_train = train_df[\"led_on\"]\n",
    "\n",
    "x_test = test_df.drop(columns=[\"led_on\"])\n",
    "y_test = test_df[\"led_on\"]\n",
    "\n",
    "x_train, y_train, x_test, y_test"
   ]
  },
  {
   "cell_type": "code",
   "execution_count": 17,
   "id": "26ac3ae4",
   "metadata": {},
   "outputs": [],
   "source": [
    "model = Sequential()\n",
    "# add layers to the model\n",
    "model.add(Dense(units=len(x_train.columns), activation='relu', input_shape=(len(x_train.columns),)))\n",
    "model.add(Dense(units=len(x_train.columns), activation='relu'))\n",
    "# output layer\n",
    "model.add(Dense(units=1, activation='sigmoid'))\n",
    "# compile the model\n",
    "model.compile(loss='binary_crossentropy',\n",
    "            optimizer='adam', metrics=['accuracy'])"
   ]
  },
  {
   "cell_type": "code",
   "execution_count": 18,
   "id": "2d0d24c6",
   "metadata": {},
   "outputs": [
    {
     "name": "stdout",
     "output_type": "stream",
     "text": [
      "Epoch 1/20\n",
      "64/64 [==============================] - 1s 3ms/step - loss: 12323171.0000 - accuracy: 0.5234\n",
      "Epoch 2/20\n",
      "64/64 [==============================] - 0s 3ms/step - loss: 186249.4531 - accuracy: 0.4855\n",
      "Epoch 3/20\n",
      "64/64 [==============================] - 0s 2ms/step - loss: 0.6955 - accuracy: 0.4766\n",
      "Epoch 4/20\n",
      "64/64 [==============================] - 0s 2ms/step - loss: 0.6952 - accuracy: 0.4766\n",
      "Epoch 5/20\n",
      "64/64 [==============================] - 0s 2ms/step - loss: 0.6949 - accuracy: 0.4766\n",
      "Epoch 6/20\n",
      "64/64 [==============================] - 0s 2ms/step - loss: 0.6945 - accuracy: 0.4766\n",
      "Epoch 7/20\n",
      "64/64 [==============================] - 0s 2ms/step - loss: 0.6942 - accuracy: 0.4766\n",
      "Epoch 8/20\n",
      "64/64 [==============================] - 0s 2ms/step - loss: 0.6938 - accuracy: 0.4766\n",
      "Epoch 9/20\n",
      "64/64 [==============================] - 0s 3ms/step - loss: 0.6936 - accuracy: 0.4766\n",
      "Epoch 10/20\n",
      "64/64 [==============================] - 0s 3ms/step - loss: 0.6933 - accuracy: 0.4766\n",
      "Epoch 11/20\n",
      "64/64 [==============================] - 0s 2ms/step - loss: 0.6931 - accuracy: 0.5086\n",
      "Epoch 12/20\n",
      "64/64 [==============================] - 0s 3ms/step - loss: 0.6929 - accuracy: 0.5234\n",
      "Epoch 13/20\n",
      "64/64 [==============================] - 0s 3ms/step - loss: 0.6928 - accuracy: 0.5234\n",
      "Epoch 14/20\n",
      "64/64 [==============================] - 0s 2ms/step - loss: 0.6926 - accuracy: 0.5234\n",
      "Epoch 15/20\n",
      "64/64 [==============================] - 0s 2ms/step - loss: 0.6925 - accuracy: 0.5234\n",
      "Epoch 16/20\n",
      "64/64 [==============================] - 0s 2ms/step - loss: 0.6924 - accuracy: 0.5234\n",
      "Epoch 17/20\n",
      "64/64 [==============================] - 0s 2ms/step - loss: 0.6923 - accuracy: 0.5234\n",
      "Epoch 18/20\n",
      "64/64 [==============================] - 0s 2ms/step - loss: 0.6923 - accuracy: 0.5234\n",
      "Epoch 19/20\n",
      "64/64 [==============================] - 0s 2ms/step - loss: 0.6922 - accuracy: 0.5234\n",
      "Epoch 20/20\n",
      "64/64 [==============================] - 0s 2ms/step - loss: 0.6922 - accuracy: 0.5234\n"
     ]
    },
    {
     "data": {
      "text/plain": [
       "<keras.callbacks.History at 0x7fb850439360>"
      ]
     },
     "execution_count": 18,
     "metadata": {},
     "output_type": "execute_result"
    }
   ],
   "source": [
    "model.fit(x_train, y_train, epochs=20)"
   ]
  },
  {
   "cell_type": "code",
   "execution_count": 22,
   "id": "6f66fc27",
   "metadata": {},
   "outputs": [
    {
     "name": "stdout",
     "output_type": "stream",
     "text": [
      "16/16 [==============================] - 0s 2ms/step - loss: 0.6940 - accuracy: 0.4951\n"
     ]
    },
    {
     "data": {
      "text/plain": [
       "[0.6940079927444458, 0.4950883984565735]"
      ]
     },
     "execution_count": 22,
     "metadata": {},
     "output_type": "execute_result"
    }
   ],
   "source": [
    "model.evaluate(x_test, y_test)"
   ]
  },
  {
   "cell_type": "code",
   "execution_count": null,
   "id": "38601f5c",
   "metadata": {},
   "outputs": [],
   "source": []
  }
 ],
 "metadata": {
  "kernelspec": {
   "display_name": "Python 3 (ipykernel)",
   "language": "python",
   "name": "python3"
  },
  "language_info": {
   "codemirror_mode": {
    "name": "ipython",
    "version": 3
   },
   "file_extension": ".py",
   "mimetype": "text/x-python",
   "name": "python",
   "nbconvert_exporter": "python",
   "pygments_lexer": "ipython3",
   "version": "3.10.5"
  }
 },
 "nbformat": 4,
 "nbformat_minor": 5
}
